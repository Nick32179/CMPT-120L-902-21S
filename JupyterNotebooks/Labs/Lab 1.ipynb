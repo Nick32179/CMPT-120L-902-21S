{
 "metadata": {
  "language_info": {
   "codemirror_mode": {
    "name": "ipython",
    "version": 3
   },
   "file_extension": ".py",
   "mimetype": "text/x-python",
   "name": "python",
   "nbconvert_exporter": "python",
   "pygments_lexer": "ipython3",
   "version": "3.8.5-final"
  },
  "orig_nbformat": 2,
  "kernelspec": {
   "name": "python3",
   "display_name": "Python 3.8.5 64-bit ('anaconda3': virtualenv)",
   "metadata": {
    "interpreter": {
     "hash": "dca0ade3e726a953b501b15e8e990130d2b7799f14cfd9f4271676035ebe5511"
    }
   }
  }
 },
 "nbformat": 4,
 "nbformat_minor": 2,
 "cells": [
  {
   "cell_type": "markdown",
   "metadata": {},
   "source": [
    "# Lab One\n",
    "---\n",
    "\n",
    "Ok for this lab we're going to reiterate a lot of the things that we went over in class.\n",
    "\n",
    "Our Goals are:\n",
    "- Defining variables\n",
    "- Using math\n",
    "- Manipulating variables\n",
    "- Changing data types\n",
    "- Playing with lists"
   ]
  },
  {
   "cell_type": "code",
   "execution_count": 4,
   "metadata": {},
   "outputs": [
    {
     "output_type": "stream",
     "name": "stdout",
     "text": [
      "5\nNick\nTrue\n0.1\n"
     ]
    }
   ],
   "source": [
    "# Define 4 variables, one of each type listed: [Integer, String, Boolean, Float]. Print all 4.\n",
    "myInteger = 5 \n",
    "myString = \"Nick\"\n",
    "myBoolean = True\n",
    "myFloat = 0.1\n",
    "print (myInteger)\n",
    "print (myString)\n",
    "print (myBoolean)\n",
    "print (myFloat)"
   ]
  },
  {
   "cell_type": "code",
   "execution_count": 12,
   "metadata": {},
   "outputs": [
    {
     "output_type": "stream",
     "name": "stdout",
     "text": [
      "5.1\n-4.9\n2.0\n50\n3\n"
     ]
    }
   ],
   "source": [
    "# With whatever variables you'd like demonstrate the following: [Addition, Subtraction, Division, Multiplication, Modulo]. Print all 5.\n",
    "# Modulo is the remainder after it has already been divided into once or twice. So, 1.3 would just be 3 as a whole number.\n",
    "# Modulo is the remainder in whole numbers after division has already taken # place \n",
    "myAddition = 0.1 + 5\n",
    "mySubtraction = 0.1 - 5\n",
    "myDivision = 10/5\n",
    "myMultiplication = 10*5\n",
    "myModulo = 7 % 4\n",
    "print (myAddition)\n",
    "print (mySubtraction)\n",
    "print(myDivision)\n",
    "print (myMultiplication)\n",
    "print (myModulo)"
   ]
  },
  {
   "cell_type": "code",
   "execution_count": 15,
   "metadata": {},
   "outputs": [
    {
     "output_type": "stream",
     "name": "stdout",
     "text": [
      "57\n"
     ]
    }
   ],
   "source": [
    "# Using 2 variables and addition print the number 57\n",
    "myVar1 = 56\n",
    "myVar2 = 1\n",
    "print (myVar1 + myVar2)"
   ]
  },
  {
   "cell_type": "code",
   "execution_count": 20,
   "metadata": {
    "tags": []
   },
   "outputs": [
    {
     "output_type": "stream",
     "name": "stdout",
     "text": [
      "37\n10\n299.99\nTrue\n"
     ]
    }
   ],
   "source": [
    "# Change this variable to a string and print\n",
    "number_into_string = 37\n",
    "# Change this variable to a integer and print\n",
    "string_into_number = '10'\n",
    "# Change this variable to a float and print\n",
    "string_into_float = '299.99'\n",
    "# Change this variable to a boolean and print\n",
    "number_into_boolean = 37\n",
    "print (str(number_into_string))\n",
    "print (int(string_into_number))\n",
    "print (float(string_into_float))\n",
    "print (bool(number_into_boolean))"
   ]
  },
  {
   "cell_type": "code",
   "execution_count": 23,
   "metadata": {},
   "outputs": [
    {
     "output_type": "stream",
     "name": "stdout",
     "text": [
      "['red', 'green', 'orange', 'yellow', 'blue', 'indigo', 'violet']\n[1, 2, 3, 4]\n"
     ]
    }
   ],
   "source": [
    "# Make me a list of any type\n",
    "theColorsOfTheRainbow = [ \"red\", \"green\", \"orange\", \"yellow\", \"blue\",\"indigo\", \"violet\"]\n",
    "print (theColorsOfTheRainbow)"
   ]
  },
  {
   "cell_type": "code",
   "execution_count": null,
   "metadata": {},
   "outputs": [],
   "source": []
  }
 ]
}